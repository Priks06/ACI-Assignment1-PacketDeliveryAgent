{
 "cells": [
  {
   "cell_type": "markdown",
   "metadata": {},
   "source": [
    "# Artificial and Computational Intelligence Assignment 3"
   ]
  },
  {
   "cell_type": "markdown",
   "metadata": {},
   "source": [
    "Problem solving using Local search\n",
    "\n",
    "Things to follow\n",
    "\n",
    "Use appropriate data structures to represent the graph and the path using python libraries\n",
    "Provide proper documentation\n",
    "Find the path and cost associated with the path and print these\n"
   ]
  },
  {
   "cell_type": "code",
   "execution_count": 31,
   "metadata": {},
   "outputs": [],
   "source": [
    "# Coding begins here\n",
    "import random\n",
    "import string\n",
    "from sklearn.preprocessing import MinMaxScaler\n",
    "import numpy as np\n",
    "\n",
    "w1 = [1] * 15\n",
    "w2 = [2] * 5\n",
    "w3 = [4] * 7\n",
    "w4 = [5] * 2\n",
    "w5 = [6] * 3\n",
    "w6 = [7] * 2\n",
    "w7 = [9] * 4\n",
    "origPacketsList = w1+w2+w3+w4+w5+w6+w7\n",
    "\n",
    "roomDictOrig = {\n",
    "    \"A\" : 25,\n",
    "    \"B\" : 5,\n",
    "    \"C\" : 28,\n",
    "    \"D\" : 20,\n",
    "    \"E\" : 46,\n",
    "    \"F\" : 35\n",
    "}\n",
    "\n",
    "totalCapacityOfAllRooms = sum(roomDictOrig.values())"
   ]
  },
  {
   "cell_type": "markdown",
   "metadata": {},
   "source": [
    "Define the robot environment here"
   ]
  },
  {
   "cell_type": "code",
   "execution_count": 32,
   "metadata": {},
   "outputs": [],
   "source": [
    "# Definition of PEAS"
   ]
  },
  {
   "cell_type": "markdown",
   "metadata": {},
   "source": [
    "Define cost function here"
   ]
  },
  {
   "cell_type": "code",
   "execution_count": 33,
   "metadata": {},
   "outputs": [],
   "source": [
    "# Definition of cost function\n",
    "# Evaluation function\n",
    "def evaluate(currentRoomDict):\n",
    "    # Calculate total number of unused rooms\n",
    "    unusedRooms = findOutUnutilizedRooms(currentRoomDict, False)\n",
    "    unusedRoomsCapacityList = [currentRoomDict[room] for room in unusedRooms]\n",
    "    # print(unusedRoomsCapacityList)\n",
    "    usedRooms = findOutUnutilizedRooms(currentRoomDict, True)\n",
    "    usedRoomsCapacityList = [currentRoomDict[room] for room in usedRooms]\n",
    "    # print(usedRoomsCapacityList)\n",
    "\n",
    "    scaler = MinMaxScaler()\n",
    "\n",
    "    if (len(usedRoomsCapacityList) > 0):\n",
    "        usedRoomsCapacityList=np.array(usedRoomsCapacityList)\n",
    "        usedRoomsCapacityList=usedRoomsCapacityList.reshape(-1, 1)\n",
    "        normalizedusedRoomsCapacityList = scaler.fit_transform(usedRoomsCapacityList)\n",
    "        # print(\"Used:\")\n",
    "        # print(normalizedusedRoomsCapacityList)\n",
    "\n",
    "    if (len(unusedRoomsCapacityList) > 0):\n",
    "        unusedRoomsCapacityList=np.array(unusedRoomsCapacityList)\n",
    "        unusedRoomsCapacityList=unusedRoomsCapacityList.reshape(-1, 1)\n",
    "        normalizedunusedRoomsCapacityList = scaler.fit_transform(unusedRoomsCapacityList)\n",
    "        # print(\"Unused:\")\n",
    "        # print(normalizedunusedRoomsCapacityList)\n",
    "\n",
    "    totalUsedRoomCapacityNorm = 0\n",
    "    if (len(usedRoomsCapacityList) > 0):\n",
    "        totalUsedRoomCapacityNorm = sum(normalizedusedRoomsCapacityList)\n",
    "\n",
    "    totalUnusedRoomCapacityNorm = 0\n",
    "    if (len(unusedRoomsCapacityList) > 0):\n",
    "        totalUnusedRoomCapacityNorm = sum(normalizedunusedRoomsCapacityList)\n",
    "\n",
    "    objectiveFunction = totalUsedRoomCapacityNorm - totalUnusedRoomCapacityNorm\n",
    "\n",
    "    return objectiveFunction"
   ]
  },
  {
   "cell_type": "markdown",
   "metadata": {},
   "source": [
    "Implementation of Local search algorithm"
   ]
  },
  {
   "cell_type": "code",
   "execution_count": 34,
   "metadata": {},
   "outputs": [],
   "source": [
    "# Code block 1\n",
    "def generateRandomPacketCombo():\n",
    "    packet=[]                                                #Var for storing collection of packets selected by bot for commute\n",
    "    visited=[]                                               #Var to recording visited packets\n",
    "    secondPacket=[]                                          #Var for recording logic of Remaining - First\n",
    "    commute=0\n",
    "    packetCombo = {}\n",
    "    num = origPacketsList.copy()\n",
    "    while (len(num)>=0):                                     # loop till all packed are picked and stored in go-down\n",
    "\n",
    "        tempNum=num.copy()                                   # For inner while loop\n",
    "        if(len(tempNum)>0):\n",
    "            first=random.choice(tempNum)                     # Randomly select first packet\n",
    "            remaining=10-first                               # Bot can carry only 10kg so 10 - selected packet\n",
    "            packet.append(first)\n",
    "            tempNum.remove(first)\n",
    "            remainingLength=len(tempNum)\n",
    "        else:\n",
    "            break\n",
    "        while (len(tempNum)>0):\n",
    "            select=random.choice(tempNum)\n",
    "            visited.append(select)                           # Record visited packets\n",
    "            tempNum.remove(select)                           # Remove visited packets from list\n",
    "            if((sum(secondPacket)+select)<=remaining):       # Calculating weight and it should not be more than 10 - first selected packet\n",
    "                secondPacket.append(select)\n",
    "            elif(len(visited)>=remainingLength):\n",
    "    #             print(\"visited length\", len(visited))\n",
    "                break\n",
    "\n",
    "        packet=packet+secondPacket                           #Combine first selected packet and remaining packet selection\n",
    "\n",
    "        # print(\"packet\"+str(commute), packet)\n",
    "        packetCombo.update({\"combo\"+str(commute): packet})\n",
    "        commute+=1\n",
    "\n",
    "        for pack in packet:                                  # Remove selected list of packets from original packet set in avoid repeated selection of same packets/boxes\n",
    "            num.remove(pack)\n",
    "        packet=[]\n",
    "        secondPacket=[]\n",
    "        visited=[]\n",
    "    return packetCombo"
   ]
  },
  {
   "cell_type": "code",
   "execution_count": 35,
   "metadata": {},
   "outputs": [],
   "source": [
    "# Code block 2\n",
    "def placePacketComboInRooms(packetCombo):\n",
    "    roomDict = roomDictOrig.copy()\n",
    "    for combo,packet1 in packetCombo.items():\n",
    "        # print (combo, packet1)\n",
    "        # print(\"Remaining storage space\")\n",
    "        # print(roomDict)\n",
    "        currentRandomRoomList = list(roomDict.keys())\n",
    "        randomRoom = random.choice(currentRandomRoomList)\n",
    "        currentRandomRoomList.remove(randomRoom)\n",
    "        remainingStorageCapacity = roomDict[randomRoom]\n",
    "        # randomRoom, remainingStorageCapacity = random.choice(list(roomDict.items()))\n",
    "        while (remainingStorageCapacity < sum(packet1)):\n",
    "            # randomRoom, remainingStorageCapacity = random.choice(list(roomDict.items()))\n",
    "            randomRoom = random.choice(currentRandomRoomList)\n",
    "            currentRandomRoomList.remove(randomRoom)\n",
    "            remainingStorageCapacity = roomDict[randomRoom]\n",
    "            # print(\"Random room selected: \" + randomRoom + \" for combo: \" + combo)\n",
    "            # If list is empty it means our initial packet combo selection is incorrect\n",
    "            if (len(currentRandomRoomList) == 0 and remainingStorageCapacity < sum(packet1)):\n",
    "                # print(\"Initial packet combo is WRONG!!! No suitable room found for: \" + combo)\n",
    "                return False, None\n",
    "\n",
    "        for pack in packet1:\n",
    "            isPacketStored = False\n",
    "            while(not isPacketStored):\n",
    "\n",
    "                if (pack <= roomDict[randomRoom]):               # Check if the current packet can be placed in the randomly selected room\n",
    "                    roomDict[randomRoom] = roomDict[randomRoom] - pack\n",
    "                    isPacketStored = True\n",
    "                    break\n",
    "\n",
    "    return True, roomDict\n",
    "\n",
    "def findOutUnutilizedRooms(currentRoomDict, isUtilized):\n",
    "    unutilizedRoomsDict = []\n",
    "    for room in currentRoomDict:\n",
    "        if (not isUtilized and currentRoomDict[room] == roomDictOrig[room]):\n",
    "            unutilizedRoomsDict.append(room)\n",
    "        elif (isUtilized and currentRoomDict[room] < roomDictOrig[room]):\n",
    "            unutilizedRoomsDict.append(room)\n",
    "    return unutilizedRoomsDict"
   ]
  },
  {
   "cell_type": "markdown",
   "metadata": {},
   "source": [
    "Calling the search algorithm"
   ]
  },
  {
   "cell_type": "code",
   "execution_count": 44,
   "metadata": {},
   "outputs": [
    {
     "name": "stdout",
     "output_type": "stream",
     "text": [
      "Current selection of random packets has a better solution.\n",
      "Current selection of random packets has a better solution.\n",
      "Current selection of random packets has a better solution.\n",
      "Current selection of random packets has a better solution.\n",
      "Best Score found [0.] Best Solution {'A': 0, 'B': 0, 'C': 28, 'D': 0, 'E': 0, 'F': 0}\n"
     ]
    }
   ],
   "source": [
    "# Calling the defined functions for search\n",
    "# Initialize best score to maximum possible number\n",
    "finalBestScore = 999999\n",
    "finalBestSolution = {}\n",
    "finalPacketCombo = {}\n",
    "\n",
    "for i in range (0,100):\n",
    "    isSolutionAchieved = False\n",
    "    packetCombo = {}\n",
    "    baseSolution = {}\n",
    "    while (not isSolutionAchieved):\n",
    "        packetCombo = generateRandomPacketCombo()\n",
    "        isSolutionAchieved, baseSolution = placePacketComboInRooms(packetCombo)\n",
    "        # print (\"Is solution acheived\" + str(isSolutionAchieved))\n",
    "\n",
    "    bestScore = evaluate(baseSolution)\n",
    "    # print(\"Base Score so far\", bestScore, 'Base Solution', baseSolution)\n",
    "    bestSolution = baseSolution\n",
    "    for j in range (0,100):\n",
    "        # print(\"Best Score so far\", bestScore, 'Solution', bestSolution)\n",
    "        if bestScore == 0:\n",
    "            break\n",
    "\n",
    "        isSolutionAchieved, newSolution = placePacketComboInRooms(packetCombo)\n",
    "\n",
    "        if (not isSolutionAchieved):\n",
    "            # print(\"Edge case reached. Skipping\")\n",
    "            continue\n",
    "        score = evaluate(newSolution)\n",
    "        if score < bestScore:\n",
    "            # print(\"Better solution found\")\n",
    "            bestSolution = newSolution\n",
    "            bestScore = score\n",
    "\n",
    "    # print(\"Best Score found in current selection of initial random packets\", bestScore, 'Best Solution', bestSolution)\n",
    "\n",
    "    # Check if the best score of current iteration is better than the previous iterations, if yes update that as the best solution\n",
    "    if (bestScore < finalBestScore):\n",
    "        print(\"Current selection of random packets has a better solution.\")\n",
    "        finalBestSolution = bestSolution\n",
    "        finalBestScore = bestScore\n",
    "        finalPacketCombo = packetCombo\n",
    "\n",
    "print(\"Best Score found\", finalBestScore, 'Best Solution', finalBestSolution)"
   ]
  },
  {
   "cell_type": "markdown",
   "metadata": {},
   "source": [
    "The agent should provide the following information"
   ]
  },
  {
   "cell_type": "code",
   "execution_count": 45,
   "metadata": {},
   "outputs": [
    {
     "name": "stdout",
     "output_type": "stream",
     "text": [
      "\n",
      "****************SOLUTION BEGIN********************\n",
      "\n",
      "Number of Commutes: \n",
      "15\n",
      "\n",
      "The weight carried by the Robot in each commute: \n",
      "{'combo0': [1, 4, 1, 2, 1, 1], 'combo1': [6, 1, 1, 2], 'combo2': [6, 1, 2, 1], 'combo3': [9, 1], 'combo4': [4, 1, 1, 1, 1, 1, 1], 'combo5': [9], 'combo6': [7, 2], 'combo7': [4, 4, 2], 'combo8': [4, 4], 'combo9': [9], 'combo10': [7], 'combo11': [9], 'combo12': [5, 4], 'combo13': [6], 'combo14': [5]}\n",
      "\n",
      "The number of rooms used to store the contingency: \n",
      "['A', 'B', 'D', 'E', 'F']\n",
      "\n",
      "The number of unused rooms: \n",
      "['C']\n",
      "\n",
      "Remaining storage capacity in each room: \n",
      "{'A': 0, 'B': 0, 'C': 28, 'D': 0, 'E': 0, 'F': 0}\n",
      "\n",
      "****************SOLUTION END********************\n"
     ]
    }
   ],
   "source": [
    "# 1. The number of commutes to reach the goal\n",
    "# 2. The weight of packets carried during each commute\n",
    "# 3. The remaining capacity of the godown and each room after completion of task\n",
    "print(\"\\n****************SOLUTION BEGIN********************\")\n",
    "print(\"\\nNumber of Commutes: \")\n",
    "print(len(list(finalPacketCombo.keys())))\n",
    "print(\"\\nThe weight carried by the Robot in each commute: \")\n",
    "print(finalPacketCombo)\n",
    "print(\"\\nThe number of rooms used to store the contingency: \")\n",
    "utilizedRooms = findOutUnutilizedRooms(finalBestSolution, True)\n",
    "print(utilizedRooms)\n",
    "print(\"\\nThe number of unused rooms: \")\n",
    "unutilizedRooms = findOutUnutilizedRooms(finalBestSolution, False)\n",
    "print(unutilizedRooms)\n",
    "print(\"\\nRemaining storage capacity in each room: \")\n",
    "print(finalBestSolution)\n",
    "print(\"\\n****************SOLUTION END********************\")"
   ]
  },
  {
   "cell_type": "code",
   "execution_count": null,
   "metadata": {},
   "outputs": [],
   "source": []
  }
 ],
 "metadata": {
  "kernelspec": {
   "display_name": "Python 3",
   "language": "python",
   "name": "python3"
  },
  "language_info": {
   "codemirror_mode": {
    "name": "ipython",
    "version": 3
   },
   "file_extension": ".py",
   "mimetype": "text/x-python",
   "name": "python",
   "nbconvert_exporter": "python",
   "pygments_lexer": "ipython3",
   "version": "3.7.6"
  }
 },
 "nbformat": 4,
 "nbformat_minor": 4
}
