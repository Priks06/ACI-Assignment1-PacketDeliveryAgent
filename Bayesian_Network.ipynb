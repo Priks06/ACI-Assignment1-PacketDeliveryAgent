{
  "nbformat": 4,
  "nbformat_minor": 0,
  "metadata": {
    "colab": {
      "name": "Bayesian_Network.ipynb",
      "provenance": [],
      "collapsed_sections": [],
      "toc_visible": true,
      "include_colab_link": true
    },
    "kernelspec": {
      "display_name": "Python 3",
      "name": "python3"
    }
  },
  "cells": [
    {
      "cell_type": "markdown",
      "metadata": {
        "id": "view-in-github",
        "colab_type": "text"
      },
      "source": [
        "<a href=\"https://colab.research.google.com/github/Priks06/ACI-Assignment1-PacketDeliveryAgent/blob/feature%2Fobjective-function-calculation/Bayesian_Network.ipynb\" target=\"_parent\"><img src=\"https://colab.research.google.com/assets/colab-badge.svg\" alt=\"Open In Colab\"/></a>"
      ]
    },
    {
      "cell_type": "markdown",
      "metadata": {
        "id": "5fCEDCU_qrC0"
      },
      "source": [
        "<p><img alt=\"Colaboratory logo\" height=\"45px\" src=\"/img/colab_favicon.ico\" align=\"left\" hspace=\"10px\" vspace=\"0px\"></p>\n",
        "\n",
        "<h1>What is Colaboratory?</h1>\n",
        "\n",
        "Colaboratory, or \"Colab\" for short, allows you to write and execute Python in your browser, with \n",
        "- Zero configuration required\n",
        "- Free access to GPUs\n",
        "- Easy sharing\n",
        "\n",
        "Whether you're a **student**, a **data scientist** or an **AI researcher**, Colab can make your work easier. Watch [Introduction to Colab](https://www.youtube.com/watch?v=inN8seMm7UI) to learn more, or just get started below!"
      ]
    },
    {
      "cell_type": "markdown",
      "metadata": {
        "id": "GJBs_flRovLc"
      },
      "source": [
        "## **Getting started**\n",
        "\n",
        "The document you are reading is not a static web page, but an interactive environment called a **Colab notebook** that lets you write and execute code.\n",
        "\n",
        "For example, here is a **code cell** with a short Python script that computes a value, stores it in a variable, and prints the result:"
      ]
    },
    {
      "cell_type": "code",
      "metadata": {
        "colab": {
          "base_uri": "https://localhost:8080/",
          "height": 425
        },
        "id": "9NUe9Ye1U1Hd",
        "outputId": "c0c73ebd-a525-4503-fe4f-c096c9672336"
      },
      "source": [
        "!pip install pomegranate"
      ],
      "execution_count": 5,
      "outputs": [
        {
          "output_type": "stream",
          "text": [
            "Collecting pomegranate\n",
            "\u001b[?25l  Downloading https://files.pythonhosted.org/packages/0b/a3/08d5be10d0770fed08da7efda3ee00bf3d81d308e079a6a8d285ba11736a/pomegranate-0.14.3-cp37-cp37m-manylinux2010_x86_64.whl (17.9MB)\n",
            "\u001b[K     |████████████████████████████████| 17.9MB 1.6MB/s \n",
            "\u001b[?25hRequirement already satisfied: networkx>=2.0 in /usr/local/lib/python3.7/dist-packages (from pomegranate) (2.5)\n",
            "Requirement already satisfied: pyyaml in /usr/local/lib/python3.7/dist-packages (from pomegranate) (3.13)\n",
            "Requirement already satisfied: scipy>=0.17.0 in /usr/local/lib/python3.7/dist-packages (from pomegranate) (1.4.1)\n",
            "Requirement already satisfied: joblib>=0.9.0b4 in /usr/local/lib/python3.7/dist-packages (from pomegranate) (1.0.1)\n",
            "Collecting numpy>=1.20.0\n",
            "\u001b[?25l  Downloading https://files.pythonhosted.org/packages/70/8a/064b4077e3d793f877e3b77aa64f56fa49a4d37236a53f78ee28be009a16/numpy-1.20.1-cp37-cp37m-manylinux2010_x86_64.whl (15.3MB)\n",
            "\u001b[K     |████████████████████████████████| 15.3MB 312kB/s \n",
            "\u001b[?25hRequirement already satisfied: decorator>=4.3.0 in /usr/local/lib/python3.7/dist-packages (from networkx>=2.0->pomegranate) (4.4.2)\n",
            "\u001b[31mERROR: tensorflow 2.4.1 has requirement numpy~=1.19.2, but you'll have numpy 1.20.1 which is incompatible.\u001b[0m\n",
            "\u001b[31mERROR: datascience 0.10.6 has requirement folium==0.2.1, but you'll have folium 0.8.3 which is incompatible.\u001b[0m\n",
            "\u001b[31mERROR: albumentations 0.1.12 has requirement imgaug<0.2.7,>=0.2.5, but you'll have imgaug 0.2.9 which is incompatible.\u001b[0m\n",
            "Installing collected packages: numpy, pomegranate\n",
            "  Found existing installation: numpy 1.19.5\n",
            "    Uninstalling numpy-1.19.5:\n",
            "      Successfully uninstalled numpy-1.19.5\n",
            "Successfully installed numpy-1.20.1 pomegranate-0.14.3\n"
          ],
          "name": "stdout"
        },
        {
          "output_type": "display_data",
          "data": {
            "application/vnd.colab-display-data+json": {
              "pip_warning": {
                "packages": [
                  "numpy"
                ]
              }
            }
          },
          "metadata": {
            "tags": []
          }
        }
      ]
    },
    {
      "cell_type": "code",
      "metadata": {
        "id": "-pcP-TjSWA86"
      },
      "source": [
        "!sudo apt-get install python3-dev graphviz libgraphviz-dev pkg-config"
      ],
      "execution_count": null,
      "outputs": []
    },
    {
      "cell_type": "code",
      "metadata": {
        "id": "2G9jjvoBWB1o"
      },
      "source": [
        "!sudo pip install pygraphviz"
      ],
      "execution_count": null,
      "outputs": []
    },
    {
      "cell_type": "code",
      "metadata": {
        "id": "AWmK4sPd5uh4"
      },
      "source": [
        "from pomegranate import *"
      ],
      "execution_count": 48,
      "outputs": []
    },
    {
      "cell_type": "code",
      "metadata": {
        "id": "WBSu1cTK6WtC"
      },
      "source": [
        "import numpy as np\n",
        "import pandas as pd"
      ],
      "execution_count": 49,
      "outputs": []
    },
    {
      "cell_type": "code",
      "metadata": {
        "id": "SXpLcF9_6W0D"
      },
      "source": [
        "dataset=pd.read_csv(\"/content/data_banknote.txt\", names=[\"variance\",\"skewness\",\"curtosis\",\"entropy\",\"class\"])"
      ],
      "execution_count": 98,
      "outputs": []
    },
    {
      "cell_type": "code",
      "metadata": {
        "colab": {
          "base_uri": "https://localhost:8080/",
          "height": 49
        },
        "id": "UOGxNEst3-TU",
        "outputId": "045e64ed-5c52-41b5-c16f-43df84e2b3de"
      },
      "source": [
        "dataset[dataset[\"variance\"]==0]"
      ],
      "execution_count": 99,
      "outputs": [
        {
          "output_type": "execute_result",
          "data": {
            "text/html": [
              "<div>\n",
              "<style scoped>\n",
              "    .dataframe tbody tr th:only-of-type {\n",
              "        vertical-align: middle;\n",
              "    }\n",
              "\n",
              "    .dataframe tbody tr th {\n",
              "        vertical-align: top;\n",
              "    }\n",
              "\n",
              "    .dataframe thead th {\n",
              "        text-align: right;\n",
              "    }\n",
              "</style>\n",
              "<table border=\"1\" class=\"dataframe\">\n",
              "  <thead>\n",
              "    <tr style=\"text-align: right;\">\n",
              "      <th></th>\n",
              "      <th>variance</th>\n",
              "      <th>skewness</th>\n",
              "      <th>curtosis</th>\n",
              "      <th>entropy</th>\n",
              "      <th>class</th>\n",
              "    </tr>\n",
              "  </thead>\n",
              "  <tbody>\n",
              "  </tbody>\n",
              "</table>\n",
              "</div>"
            ],
            "text/plain": [
              "Empty DataFrame\n",
              "Columns: [variance, skewness, curtosis, entropy, class]\n",
              "Index: []"
            ]
          },
          "metadata": {
            "tags": []
          },
          "execution_count": 99
        }
      ]
    },
    {
      "cell_type": "code",
      "metadata": {
        "colab": {
          "base_uri": "https://localhost:8080/",
          "height": 297
        },
        "id": "ViVChgdO6W8d",
        "outputId": "0dd3147e-6b14-4af4-8c8a-31a5c143dfd4"
      },
      "source": [
        "dataset.describe()"
      ],
      "execution_count": 51,
      "outputs": [
        {
          "output_type": "execute_result",
          "data": {
            "text/html": [
              "<div>\n",
              "<style scoped>\n",
              "    .dataframe tbody tr th:only-of-type {\n",
              "        vertical-align: middle;\n",
              "    }\n",
              "\n",
              "    .dataframe tbody tr th {\n",
              "        vertical-align: top;\n",
              "    }\n",
              "\n",
              "    .dataframe thead th {\n",
              "        text-align: right;\n",
              "    }\n",
              "</style>\n",
              "<table border=\"1\" class=\"dataframe\">\n",
              "  <thead>\n",
              "    <tr style=\"text-align: right;\">\n",
              "      <th></th>\n",
              "      <th>variance</th>\n",
              "      <th>skewness</th>\n",
              "      <th>curtosis</th>\n",
              "      <th>entropy</th>\n",
              "      <th>class</th>\n",
              "    </tr>\n",
              "  </thead>\n",
              "  <tbody>\n",
              "    <tr>\n",
              "      <th>count</th>\n",
              "      <td>1372.000000</td>\n",
              "      <td>1372.000000</td>\n",
              "      <td>1372.000000</td>\n",
              "      <td>1372.000000</td>\n",
              "      <td>1372.000000</td>\n",
              "    </tr>\n",
              "    <tr>\n",
              "      <th>mean</th>\n",
              "      <td>0.433735</td>\n",
              "      <td>1.922353</td>\n",
              "      <td>1.397627</td>\n",
              "      <td>-1.191657</td>\n",
              "      <td>0.444606</td>\n",
              "    </tr>\n",
              "    <tr>\n",
              "      <th>std</th>\n",
              "      <td>2.842763</td>\n",
              "      <td>5.869047</td>\n",
              "      <td>4.310030</td>\n",
              "      <td>2.101013</td>\n",
              "      <td>0.497103</td>\n",
              "    </tr>\n",
              "    <tr>\n",
              "      <th>min</th>\n",
              "      <td>-7.042100</td>\n",
              "      <td>-13.773100</td>\n",
              "      <td>-5.286100</td>\n",
              "      <td>-8.548200</td>\n",
              "      <td>0.000000</td>\n",
              "    </tr>\n",
              "    <tr>\n",
              "      <th>25%</th>\n",
              "      <td>-1.773000</td>\n",
              "      <td>-1.708200</td>\n",
              "      <td>-1.574975</td>\n",
              "      <td>-2.413450</td>\n",
              "      <td>0.000000</td>\n",
              "    </tr>\n",
              "    <tr>\n",
              "      <th>50%</th>\n",
              "      <td>0.496180</td>\n",
              "      <td>2.319650</td>\n",
              "      <td>0.616630</td>\n",
              "      <td>-0.586650</td>\n",
              "      <td>0.000000</td>\n",
              "    </tr>\n",
              "    <tr>\n",
              "      <th>75%</th>\n",
              "      <td>2.821475</td>\n",
              "      <td>6.814625</td>\n",
              "      <td>3.179250</td>\n",
              "      <td>0.394810</td>\n",
              "      <td>1.000000</td>\n",
              "    </tr>\n",
              "    <tr>\n",
              "      <th>max</th>\n",
              "      <td>6.824800</td>\n",
              "      <td>12.951600</td>\n",
              "      <td>17.927400</td>\n",
              "      <td>2.449500</td>\n",
              "      <td>1.000000</td>\n",
              "    </tr>\n",
              "  </tbody>\n",
              "</table>\n",
              "</div>"
            ],
            "text/plain": [
              "          variance     skewness     curtosis      entropy        class\n",
              "count  1372.000000  1372.000000  1372.000000  1372.000000  1372.000000\n",
              "mean      0.433735     1.922353     1.397627    -1.191657     0.444606\n",
              "std       2.842763     5.869047     4.310030     2.101013     0.497103\n",
              "min      -7.042100   -13.773100    -5.286100    -8.548200     0.000000\n",
              "25%      -1.773000    -1.708200    -1.574975    -2.413450     0.000000\n",
              "50%       0.496180     2.319650     0.616630    -0.586650     0.000000\n",
              "75%       2.821475     6.814625     3.179250     0.394810     1.000000\n",
              "max       6.824800    12.951600    17.927400     2.449500     1.000000"
            ]
          },
          "metadata": {
            "tags": []
          },
          "execution_count": 51
        }
      ]
    },
    {
      "cell_type": "code",
      "metadata": {
        "colab": {
          "base_uri": "https://localhost:8080/",
          "height": 204
        },
        "id": "UuTUE8WAt3R0",
        "outputId": "73f66b11-90a6-4bd7-defa-dab1db8fca16"
      },
      "source": [
        "dataset.corr()"
      ],
      "execution_count": 52,
      "outputs": [
        {
          "output_type": "execute_result",
          "data": {
            "text/html": [
              "<div>\n",
              "<style scoped>\n",
              "    .dataframe tbody tr th:only-of-type {\n",
              "        vertical-align: middle;\n",
              "    }\n",
              "\n",
              "    .dataframe tbody tr th {\n",
              "        vertical-align: top;\n",
              "    }\n",
              "\n",
              "    .dataframe thead th {\n",
              "        text-align: right;\n",
              "    }\n",
              "</style>\n",
              "<table border=\"1\" class=\"dataframe\">\n",
              "  <thead>\n",
              "    <tr style=\"text-align: right;\">\n",
              "      <th></th>\n",
              "      <th>variance</th>\n",
              "      <th>skewness</th>\n",
              "      <th>curtosis</th>\n",
              "      <th>entropy</th>\n",
              "      <th>class</th>\n",
              "    </tr>\n",
              "  </thead>\n",
              "  <tbody>\n",
              "    <tr>\n",
              "      <th>variance</th>\n",
              "      <td>1.000000</td>\n",
              "      <td>0.264026</td>\n",
              "      <td>-0.380850</td>\n",
              "      <td>0.276817</td>\n",
              "      <td>-0.724843</td>\n",
              "    </tr>\n",
              "    <tr>\n",
              "      <th>skewness</th>\n",
              "      <td>0.264026</td>\n",
              "      <td>1.000000</td>\n",
              "      <td>-0.786895</td>\n",
              "      <td>-0.526321</td>\n",
              "      <td>-0.444688</td>\n",
              "    </tr>\n",
              "    <tr>\n",
              "      <th>curtosis</th>\n",
              "      <td>-0.380850</td>\n",
              "      <td>-0.786895</td>\n",
              "      <td>1.000000</td>\n",
              "      <td>0.318841</td>\n",
              "      <td>0.155883</td>\n",
              "    </tr>\n",
              "    <tr>\n",
              "      <th>entropy</th>\n",
              "      <td>0.276817</td>\n",
              "      <td>-0.526321</td>\n",
              "      <td>0.318841</td>\n",
              "      <td>1.000000</td>\n",
              "      <td>-0.023424</td>\n",
              "    </tr>\n",
              "    <tr>\n",
              "      <th>class</th>\n",
              "      <td>-0.724843</td>\n",
              "      <td>-0.444688</td>\n",
              "      <td>0.155883</td>\n",
              "      <td>-0.023424</td>\n",
              "      <td>1.000000</td>\n",
              "    </tr>\n",
              "  </tbody>\n",
              "</table>\n",
              "</div>"
            ],
            "text/plain": [
              "          variance  skewness  curtosis   entropy     class\n",
              "variance  1.000000  0.264026 -0.380850  0.276817 -0.724843\n",
              "skewness  0.264026  1.000000 -0.786895 -0.526321 -0.444688\n",
              "curtosis -0.380850 -0.786895  1.000000  0.318841  0.155883\n",
              "entropy   0.276817 -0.526321  0.318841  1.000000 -0.023424\n",
              "class    -0.724843 -0.444688  0.155883 -0.023424  1.000000"
            ]
          },
          "metadata": {
            "tags": []
          },
          "execution_count": 52
        }
      ]
    },
    {
      "cell_type": "code",
      "metadata": {
        "id": "b1X8cQbtLtL9"
      },
      "source": [
        "dataset.rename(columns={\"variance\":\"variance_original\",\"skewness\":\"skewness_original\", \"curtosis\":\"curtosis_original\", \"entropy\":\"entropy_original\"}, inplace=True)"
      ],
      "execution_count": 54,
      "outputs": []
    },
    {
      "cell_type": "code",
      "metadata": {
        "id": "v7_3t1ksMNxI",
        "colab": {
          "base_uri": "https://localhost:8080/",
          "height": 204
        },
        "outputId": "dfa3fab5-d812-4b09-ccf9-48c18edb6ce6"
      },
      "source": [
        "dataset.head()"
      ],
      "execution_count": 55,
      "outputs": [
        {
          "output_type": "execute_result",
          "data": {
            "text/html": [
              "<div>\n",
              "<style scoped>\n",
              "    .dataframe tbody tr th:only-of-type {\n",
              "        vertical-align: middle;\n",
              "    }\n",
              "\n",
              "    .dataframe tbody tr th {\n",
              "        vertical-align: top;\n",
              "    }\n",
              "\n",
              "    .dataframe thead th {\n",
              "        text-align: right;\n",
              "    }\n",
              "</style>\n",
              "<table border=\"1\" class=\"dataframe\">\n",
              "  <thead>\n",
              "    <tr style=\"text-align: right;\">\n",
              "      <th></th>\n",
              "      <th>variance_original</th>\n",
              "      <th>skewness_original</th>\n",
              "      <th>curtosis_original</th>\n",
              "      <th>entropy_original</th>\n",
              "      <th>class</th>\n",
              "    </tr>\n",
              "  </thead>\n",
              "  <tbody>\n",
              "    <tr>\n",
              "      <th>0</th>\n",
              "      <td>3.62160</td>\n",
              "      <td>8.6661</td>\n",
              "      <td>-2.8073</td>\n",
              "      <td>-0.44699</td>\n",
              "      <td>0</td>\n",
              "    </tr>\n",
              "    <tr>\n",
              "      <th>1</th>\n",
              "      <td>4.54590</td>\n",
              "      <td>8.1674</td>\n",
              "      <td>-2.4586</td>\n",
              "      <td>-1.46210</td>\n",
              "      <td>0</td>\n",
              "    </tr>\n",
              "    <tr>\n",
              "      <th>2</th>\n",
              "      <td>3.86600</td>\n",
              "      <td>-2.6383</td>\n",
              "      <td>1.9242</td>\n",
              "      <td>0.10645</td>\n",
              "      <td>0</td>\n",
              "    </tr>\n",
              "    <tr>\n",
              "      <th>3</th>\n",
              "      <td>3.45660</td>\n",
              "      <td>9.5228</td>\n",
              "      <td>-4.0112</td>\n",
              "      <td>-3.59440</td>\n",
              "      <td>0</td>\n",
              "    </tr>\n",
              "    <tr>\n",
              "      <th>4</th>\n",
              "      <td>0.32924</td>\n",
              "      <td>-4.4552</td>\n",
              "      <td>4.5718</td>\n",
              "      <td>-0.98880</td>\n",
              "      <td>0</td>\n",
              "    </tr>\n",
              "  </tbody>\n",
              "</table>\n",
              "</div>"
            ],
            "text/plain": [
              "   variance_original  skewness_original  ...  entropy_original  class\n",
              "0            3.62160             8.6661  ...          -0.44699      0\n",
              "1            4.54590             8.1674  ...          -1.46210      0\n",
              "2            3.86600            -2.6383  ...           0.10645      0\n",
              "3            3.45660             9.5228  ...          -3.59440      0\n",
              "4            0.32924            -4.4552  ...          -0.98880      0\n",
              "\n",
              "[5 rows x 5 columns]"
            ]
          },
          "metadata": {
            "tags": []
          },
          "execution_count": 55
        }
      ]
    },
    {
      "cell_type": "code",
      "metadata": {
        "colab": {
          "base_uri": "https://localhost:8080/"
        },
        "id": "ffufqxr96XDf",
        "outputId": "d0373f06-8123-4d0f-949e-a4e515ca6327"
      },
      "source": [
        "dataset[\"class\"].value_counts()"
      ],
      "execution_count": 56,
      "outputs": [
        {
          "output_type": "execute_result",
          "data": {
            "text/plain": [
              "0    762\n",
              "1    610\n",
              "Name: class, dtype: int64"
            ]
          },
          "metadata": {
            "tags": []
          },
          "execution_count": 56
        }
      ]
    },
    {
      "cell_type": "code",
      "metadata": {
        "id": "gJr_9dXGpJ05"
      },
      "source": [
        "from sklearn.preprocessing import KBinsDiscretizer\n",
        "from matplotlib import pyplot"
      ],
      "execution_count": 57,
      "outputs": []
    },
    {
      "cell_type": "code",
      "metadata": {
        "id": "qVyMozCb79pB"
      },
      "source": [
        ""
      ],
      "execution_count": 10,
      "outputs": []
    },
    {
      "cell_type": "code",
      "metadata": {
        "id": "mg35ZMXIFQms"
      },
      "source": [
        "trans = KBinsDiscretizer(n_bins=3, encode='ordinal', strategy='uniform')\n",
        "dataset[\"variance\"]=pd.DataFrame(trans.fit_transform(dataset.values[:, 0].reshape(-1, 1)))\n",
        "dataset[\"skewness\"]=pd.DataFrame(trans.fit_transform(dataset.values[:, 1].reshape(-1, 1)))\n",
        "dataset[\"curtosis\"]=pd.DataFrame(trans.fit_transform(dataset.values[:, 2].reshape(-1, 1)))\n",
        "dataset[\"entropy\"]=pd.DataFrame(trans.fit_transform(dataset.values[:, 3].reshape(-1, 1)))"
      ],
      "execution_count": 58,
      "outputs": []
    },
    {
      "cell_type": "code",
      "metadata": {
        "id": "KfVB4RHwDztx"
      },
      "source": [
        "dataset[\"variance\"][dataset[\"variance\"]==0]=\"low\"\n",
        "dataset[\"skewness\"][dataset[\"skewness\"]==0]=\"low\"\n",
        "dataset[\"curtosis\"][dataset[\"curtosis\"]==0]=\"low\"\n",
        "dataset[\"entropy\"][dataset[\"entropy\"]==0]=\"low\"\n",
        "\n",
        "dataset[\"variance\"][dataset[\"variance\"]==1]=\"medium\"\n",
        "dataset[\"skewness\"][dataset[\"skewness\"]==1]=\"medium\"\n",
        "dataset[\"curtosis\"][dataset[\"curtosis\"]==1]=\"medium\"\n",
        "dataset[\"entropy\"][dataset[\"entropy\"]==1]=\"medium\"\n",
        "\n",
        "dataset[\"variance\"][dataset[\"variance\"]==2]=\"high\"\n",
        "dataset[\"skewness\"][dataset[\"skewness\"]==2]=\"high\"\n",
        "dataset[\"curtosis\"][dataset[\"curtosis\"]==2]=\"high\"\n",
        "dataset[\"entropy\"][dataset[\"entropy\"]==2]=\"high\""
      ],
      "execution_count": null,
      "outputs": []
    },
    {
      "cell_type": "code",
      "metadata": {
        "id": "fPMB4OoaMmaj",
        "colab": {
          "base_uri": "https://localhost:8080/",
          "height": 204
        },
        "outputId": "8fe28f2e-40c3-4bf8-b75a-79fdaf526d94"
      },
      "source": [
        "dataset.head()"
      ],
      "execution_count": 60,
      "outputs": [
        {
          "output_type": "execute_result",
          "data": {
            "text/html": [
              "<div>\n",
              "<style scoped>\n",
              "    .dataframe tbody tr th:only-of-type {\n",
              "        vertical-align: middle;\n",
              "    }\n",
              "\n",
              "    .dataframe tbody tr th {\n",
              "        vertical-align: top;\n",
              "    }\n",
              "\n",
              "    .dataframe thead th {\n",
              "        text-align: right;\n",
              "    }\n",
              "</style>\n",
              "<table border=\"1\" class=\"dataframe\">\n",
              "  <thead>\n",
              "    <tr style=\"text-align: right;\">\n",
              "      <th></th>\n",
              "      <th>variance_original</th>\n",
              "      <th>skewness_original</th>\n",
              "      <th>curtosis_original</th>\n",
              "      <th>entropy_original</th>\n",
              "      <th>class</th>\n",
              "      <th>variance</th>\n",
              "      <th>skewness</th>\n",
              "      <th>curtosis</th>\n",
              "      <th>entropy</th>\n",
              "    </tr>\n",
              "  </thead>\n",
              "  <tbody>\n",
              "    <tr>\n",
              "      <th>0</th>\n",
              "      <td>3.62160</td>\n",
              "      <td>8.6661</td>\n",
              "      <td>-2.8073</td>\n",
              "      <td>-0.44699</td>\n",
              "      <td>0</td>\n",
              "      <td>high</td>\n",
              "      <td>high</td>\n",
              "      <td>low</td>\n",
              "      <td>high</td>\n",
              "    </tr>\n",
              "    <tr>\n",
              "      <th>1</th>\n",
              "      <td>4.54590</td>\n",
              "      <td>8.1674</td>\n",
              "      <td>-2.4586</td>\n",
              "      <td>-1.46210</td>\n",
              "      <td>0</td>\n",
              "      <td>high</td>\n",
              "      <td>high</td>\n",
              "      <td>low</td>\n",
              "      <td>medium</td>\n",
              "    </tr>\n",
              "    <tr>\n",
              "      <th>2</th>\n",
              "      <td>3.86600</td>\n",
              "      <td>-2.6383</td>\n",
              "      <td>1.9242</td>\n",
              "      <td>0.10645</td>\n",
              "      <td>0</td>\n",
              "      <td>high</td>\n",
              "      <td>medium</td>\n",
              "      <td>low</td>\n",
              "      <td>high</td>\n",
              "    </tr>\n",
              "    <tr>\n",
              "      <th>3</th>\n",
              "      <td>3.45660</td>\n",
              "      <td>9.5228</td>\n",
              "      <td>-4.0112</td>\n",
              "      <td>-3.59440</td>\n",
              "      <td>0</td>\n",
              "      <td>high</td>\n",
              "      <td>high</td>\n",
              "      <td>low</td>\n",
              "      <td>medium</td>\n",
              "    </tr>\n",
              "    <tr>\n",
              "      <th>4</th>\n",
              "      <td>0.32924</td>\n",
              "      <td>-4.4552</td>\n",
              "      <td>4.5718</td>\n",
              "      <td>-0.98880</td>\n",
              "      <td>0</td>\n",
              "      <td>medium</td>\n",
              "      <td>medium</td>\n",
              "      <td>medium</td>\n",
              "      <td>high</td>\n",
              "    </tr>\n",
              "  </tbody>\n",
              "</table>\n",
              "</div>"
            ],
            "text/plain": [
              "   variance_original  skewness_original  ...  curtosis  entropy\n",
              "0            3.62160             8.6661  ...       low     high\n",
              "1            4.54590             8.1674  ...       low   medium\n",
              "2            3.86600            -2.6383  ...       low     high\n",
              "3            3.45660             9.5228  ...       low   medium\n",
              "4            0.32924            -4.4552  ...    medium     high\n",
              "\n",
              "[5 rows x 9 columns]"
            ]
          },
          "metadata": {
            "tags": []
          },
          "execution_count": 60
        }
      ]
    },
    {
      "cell_type": "code",
      "metadata": {
        "colab": {
          "base_uri": "https://localhost:8080/",
          "height": 265
        },
        "id": "xesXK9yTD8m_",
        "outputId": "65ae1b05-5f12-4c29-872f-8afa192a8749"
      },
      "source": [
        "dataset[\"variance\"].hist()\n",
        "pyplot.show()"
      ],
      "execution_count": 52,
      "outputs": [
        {
          "output_type": "display_data",
          "data": {
            "image/png": "[encoded data removed]",
            "text/plain": [
              "<Figure size 432x288 with 1 Axes>"
            ]
          },
          "metadata": {
            "tags": [],
            "needs_background": "light"
          }
        }
      ]
    },
    {
      "cell_type": "code",
      "metadata": {
        "colab": {
          "base_uri": "https://localhost:8080/"
        },
        "id": "KY8FTOFX796W",
        "outputId": "43d0f3ea-d39e-4aff-87b7-841a0c5c31b8"
      },
      "source": [
        "len(dataset[(dataset[\"variance\"]==\"high\")&(dataset[\"skewness\"]==\"high\")&(dataset[\"curtosis\"]==\"low\")])/len(dataset)"
      ],
      "execution_count": null,
      "outputs": [
        {
          "output_type": "execute_result",
          "data": {
            "text/plain": [
              "0.14868804664723032"
            ]
          },
          "metadata": {
            "tags": []
          },
          "execution_count": 58
        }
      ]
    },
    {
      "cell_type": "code",
      "metadata": {
        "colab": {
          "base_uri": "https://localhost:8080/",
          "height": 204
        },
        "id": "1R8apOJ5lssn",
        "outputId": "6ab1d607-44af-49a1-ab2e-b004d842fcd1"
      },
      "source": [
        "dataset.head()"
      ],
      "execution_count": 80,
      "outputs": [
        {
          "output_type": "execute_result",
          "data": {
            "text/html": [
              "<div>\n",
              "<style scoped>\n",
              "    .dataframe tbody tr th:only-of-type {\n",
              "        vertical-align: middle;\n",
              "    }\n",
              "\n",
              "    .dataframe tbody tr th {\n",
              "        vertical-align: top;\n",
              "    }\n",
              "\n",
              "    .dataframe thead th {\n",
              "        text-align: right;\n",
              "    }\n",
              "</style>\n",
              "<table border=\"1\" class=\"dataframe\">\n",
              "  <thead>\n",
              "    <tr style=\"text-align: right;\">\n",
              "      <th></th>\n",
              "      <th>variance_original</th>\n",
              "      <th>skewness_original</th>\n",
              "      <th>curtosis_original</th>\n",
              "      <th>entropy_original</th>\n",
              "      <th>class</th>\n",
              "      <th>variance</th>\n",
              "      <th>skewness</th>\n",
              "      <th>curtosis</th>\n",
              "      <th>entropy</th>\n",
              "    </tr>\n",
              "  </thead>\n",
              "  <tbody>\n",
              "    <tr>\n",
              "      <th>0</th>\n",
              "      <td>3.62160</td>\n",
              "      <td>8.6661</td>\n",
              "      <td>-2.8073</td>\n",
              "      <td>-0.44699</td>\n",
              "      <td>0</td>\n",
              "      <td>high</td>\n",
              "      <td>high</td>\n",
              "      <td>low</td>\n",
              "      <td>high</td>\n",
              "    </tr>\n",
              "    <tr>\n",
              "      <th>1</th>\n",
              "      <td>4.54590</td>\n",
              "      <td>8.1674</td>\n",
              "      <td>-2.4586</td>\n",
              "      <td>-1.46210</td>\n",
              "      <td>0</td>\n",
              "      <td>high</td>\n",
              "      <td>high</td>\n",
              "      <td>low</td>\n",
              "      <td>medium</td>\n",
              "    </tr>\n",
              "    <tr>\n",
              "      <th>2</th>\n",
              "      <td>3.86600</td>\n",
              "      <td>-2.6383</td>\n",
              "      <td>1.9242</td>\n",
              "      <td>0.10645</td>\n",
              "      <td>0</td>\n",
              "      <td>high</td>\n",
              "      <td>medium</td>\n",
              "      <td>low</td>\n",
              "      <td>high</td>\n",
              "    </tr>\n",
              "    <tr>\n",
              "      <th>3</th>\n",
              "      <td>3.45660</td>\n",
              "      <td>9.5228</td>\n",
              "      <td>-4.0112</td>\n",
              "      <td>-3.59440</td>\n",
              "      <td>0</td>\n",
              "      <td>high</td>\n",
              "      <td>high</td>\n",
              "      <td>low</td>\n",
              "      <td>medium</td>\n",
              "    </tr>\n",
              "    <tr>\n",
              "      <th>4</th>\n",
              "      <td>0.32924</td>\n",
              "      <td>-4.4552</td>\n",
              "      <td>4.5718</td>\n",
              "      <td>-0.98880</td>\n",
              "      <td>0</td>\n",
              "      <td>medium</td>\n",
              "      <td>medium</td>\n",
              "      <td>medium</td>\n",
              "      <td>high</td>\n",
              "    </tr>\n",
              "  </tbody>\n",
              "</table>\n",
              "</div>"
            ],
            "text/plain": [
              "   variance_original  skewness_original  ...  curtosis  entropy\n",
              "0            3.62160             8.6661  ...       low     high\n",
              "1            4.54590             8.1674  ...       low   medium\n",
              "2            3.86600            -2.6383  ...       low     high\n",
              "3            3.45660             9.5228  ...       low   medium\n",
              "4            0.32924            -4.4552  ...    medium     high\n",
              "\n",
              "[5 rows x 9 columns]"
            ]
          },
          "metadata": {
            "tags": []
          },
          "execution_count": 80
        }
      ]
    },
    {
      "cell_type": "code",
      "metadata": {
        "id": "KlEbZTCrzmy3"
      },
      "source": [
        "dataset[\"class\"]=dataset[\"class\"].astype(str)"
      ],
      "execution_count": 82,
      "outputs": []
    },
    {
      "cell_type": "code",
      "metadata": {
        "colab": {
          "base_uri": "https://localhost:8080/"
        },
        "id": "DFBxYUbMz0w1",
        "outputId": "cfcda3eb-c58e-46ae-d5dc-9705bad7c8c8"
      },
      "source": [
        "dataset.info()"
      ],
      "execution_count": 83,
      "outputs": [
        {
          "output_type": "stream",
          "text": [
            "<class 'pandas.core.frame.DataFrame'>\n",
            "RangeIndex: 1372 entries, 0 to 1371\n",
            "Data columns (total 9 columns):\n",
            " #   Column             Non-Null Count  Dtype  \n",
            "---  ------             --------------  -----  \n",
            " 0   variance_original  1372 non-null   float64\n",
            " 1   skewness_original  1372 non-null   float64\n",
            " 2   curtosis_original  1372 non-null   float64\n",
            " 3   entropy_original   1372 non-null   float64\n",
            " 4   class              1372 non-null   object \n",
            " 5   variance           1372 non-null   object \n",
            " 6   skewness           1372 non-null   object \n",
            " 7   curtosis           1372 non-null   object \n",
            " 8   entropy            1372 non-null   object \n",
            "dtypes: float64(4), object(5)\n",
            "memory usage: 96.6+ KB\n"
          ],
          "name": "stdout"
        }
      ]
    },
    {
      "cell_type": "code",
      "metadata": {
        "id": "Bqyz8-tt04kO"
      },
      "source": [
        "value=['medium', 'high', 'low']\n",
        "class_value=[\"0\", \"1\"]\n",
        "\n",
        "CPT=pd.DataFrame(columns=[\"variance\",\"skewness\",\"curtosis\", \"entropy\", \"class\", \"prob\"]) \n",
        "CPT[\"prob\"]=0\n",
        "datasetLength=len(dataset)\n",
        "for variance_value in value:\n",
        "  for skewness_value in value:\n",
        "    for curtosis_value in value:\n",
        "      for entropy_value in value:\n",
        "        for cls_value in class_value:\n",
        "          count=dataset[(dataset[\"variance\"]==variance_value)&(dataset[\"skewness\"]==skewness_value)&(dataset[\"curtosis\"]==curtosis_value)&(dataset[\"entropy\"]==entropy_value)\n",
        "                        &(dataset[\"class\"]==cls_value)].count().values[0]\n",
        "          prob=count/datasetLength\n",
        "          df=pd.DataFrame({\"variance\":[variance_value],\"skewness\":[skewness_value],\"curtosis\": curtosis_value, \"entropy\": entropy_value, \"class\": cls_value, \"prob\":prob})\n",
        "          CPT=CPT.append(df,ignore_index=True)\n"
      ],
      "execution_count": 84,
      "outputs": []
    },
    {
      "cell_type": "code",
      "metadata": {
        "colab": {
          "base_uri": "https://localhost:8080/"
        },
        "id": "O3JeyyV7FeuJ",
        "outputId": "c0c71120-7593-4c7d-bae8-830352de0df1"
      },
      "source": [
        "dataset[\"variance\"].value_counts()[\"medium\"]/len(dataset)"
      ],
      "execution_count": 85,
      "outputs": [
        {
          "output_type": "execute_result",
          "data": {
            "text/plain": [
              "0.5211370262390671"
            ]
          },
          "metadata": {
            "tags": []
          },
          "execution_count": 85
        }
      ]
    },
    {
      "cell_type": "code",
      "metadata": {
        "id": "4EQ3wNfwFoeZ"
      },
      "source": [
        "CPT.values.tolist()"
      ],
      "execution_count": null,
      "outputs": []
    },
    {
      "cell_type": "code",
      "metadata": {
        "id": "OZ0nYHxfFW8q"
      },
      "source": [
        "variance = DiscreteDistribution({'high': dataset[\"variance\"].value_counts()[\"high\"]/len(dataset), 'medium': dataset[\"variance\"].value_counts()[\"medium\"]/len(dataset), 'low': dataset[\"variance\"].value_counts()[\"low\"]/len(dataset)})\n",
        "skewness = DiscreteDistribution({'high': dataset[\"skewness\"].value_counts()[\"high\"]/len(dataset), 'medium': dataset[\"skewness\"].value_counts()[\"medium\"]/len(dataset), 'low': dataset[\"skewness\"].value_counts()[\"low\"]/len(dataset)})\n",
        "curtosis = DiscreteDistribution({'high': dataset[\"curtosis\"].value_counts()[\"high\"]/len(dataset), 'medium': dataset[\"curtosis\"].value_counts()[\"medium\"]/len(dataset), 'low': dataset[\"curtosis\"].value_counts()[\"low\"]/len(dataset)})\n",
        "\n",
        "entropy = DiscreteDistribution({'high': dataset[\"entropy\"].value_counts()[\"high\"]/len(dataset), 'medium': dataset[\"entropy\"].value_counts()[\"medium\"]/len(dataset), 'low': dataset[\"entropy\"].value_counts()[\"low\"]/len(dataset)})\n",
        "class_name = ConditionalProbabilityTable(CPT.values.tolist(), [variance, skewness, curtosis, entropy])\n"
      ],
      "execution_count": 87,
      "outputs": []
    },
    {
      "cell_type": "code",
      "metadata": {
        "id": "6YoccC98HnPJ"
      },
      "source": [
        "s1 = Node(variance, name=\"variance\")\n",
        "s2 = Node(skewness, name=\"skewness\")\n",
        "s3 = Node(curtosis, name=\"curtosis\")\n",
        "s4 = Node(entropy, name=\"entropy\")\n",
        "s5 = Node(class_name, name=\"class\")\n",
        "\n",
        "model = BayesianNetwork(\"Bank Note\")\n",
        "model.add_states(s1, s2, s3, s4, s5)\n",
        "model.add_edge(s1, s5)\n",
        "model.add_edge(s2, s5)\n",
        "model.add_edge(s3, s5)\n",
        "model.add_edge(s4, s5)\n",
        "model.bake()"
      ],
      "execution_count": 88,
      "outputs": []
    },
    {
      "cell_type": "code",
      "metadata": {
        "colab": {
          "base_uri": "https://localhost:8080/",
          "height": 130
        },
        "id": "upnsVOCKIF2n",
        "outputId": "05bcae84-77f4-4feb-e679-cdd146e0f363"
      },
      "source": [
        "model.plot()"
      ],
      "execution_count": 89,
      "outputs": [
        {
          "output_type": "display_data",
          "data": {
            "image/png": "[encoded data removed]",
            "text/plain": [
              "<Figure size 432x288 with 1 Axes>"
            ]
          },
          "metadata": {
            "tags": []
          }
        }
      ]
    },
    {
      "cell_type": "markdown",
      "metadata": {
        "id": "lLiuQRX01G8R"
      },
      "source": [
        "2.\tPredict the probability of  data having the following values :Variance: 3.6216 , skewness: 8.6661, curtosis : -2.8073 , entropy : -0.44699, and the class is 0."
      ]
    },
    {
      "cell_type": "code",
      "metadata": {
        "colab": {
          "base_uri": "https://localhost:8080/"
        },
        "id": "8G-Rs-Z41OtG",
        "outputId": "123711c5-80b1-4c58-c0c9-0d87d810114c"
      },
      "source": [
        "var=dataset[\"variance\"][(dataset[\"variance_original\"]>=3.6216)&(dataset[\"variance_original\"]<=3.7)].value_counts().index[0]\n",
        "skew=dataset[\"skewness\"][(dataset[\"skewness_original\"]>=8.6661)&(dataset[\"skewness_original\"]<=9.0)].value_counts().index[0]\n",
        "curt=dataset[\"curtosis\"][(dataset[\"curtosis_original\"]>=-2.8073)&(dataset[\"curtosis_original\"]<=-2)].value_counts().index[0]\n",
        "entr=dataset[\"entropy\"][(dataset[\"entropy_original\"]>=-0.44699)&(dataset[\"entropy_original\"]<=0)].value_counts().index[0]\n",
        "cls=\"0\"\n",
        "print(model.probability([[var, skew, curt,entr, cls]]))"
      ],
      "execution_count": 95,
      "outputs": [
        {
          "output_type": "stream",
          "text": [
            "0.0029851011494283217\n"
          ],
          "name": "stdout"
        }
      ]
    },
    {
      "cell_type": "markdown",
      "metadata": {
        "id": "qYGb58fD2UMx"
      },
      "source": [
        "3.\tPredict the if the note is genuine or fake with the following attribute values: Variance: -1.8439, skewness: -8.6475, curtosis : 7.6796 , entropy : -0.66682."
      ]
    },
    {
      "cell_type": "code",
      "metadata": {
        "colab": {
          "base_uri": "https://localhost:8080/"
        },
        "id": "OpkqgANKg57I",
        "outputId": "bcae833a-be67-47c8-f800-b84cdf49f7de"
      },
      "source": [
        "var=dataset[\"variance\"][(dataset[\"variance_original\"]>=-1.8439)&(dataset[\"variance_original\"]<=0)].value_counts().index[0]\n",
        "skew=dataset[\"skewness\"][(dataset[\"skewness_original\"]>=-8.6475)&(dataset[\"skewness_original\"]<=-8.0)].value_counts().index[0]\n",
        "curt=dataset[\"curtosis\"][(dataset[\"curtosis_original\"]>=7.6796)&(dataset[\"curtosis_original\"]<=8)].value_counts().index[0]\n",
        "entr=dataset[\"entropy\"][(dataset[\"entropy_original\"]>=-0.66682)&(dataset[\"entropy_original\"]<=0)].value_counts().index[0]\n",
        "\n",
        "print(model.predict([[var, skew, curt,entr, None]]))"
      ],
      "execution_count": 96,
      "outputs": [
        {
          "output_type": "stream",
          "text": [
            "[array(['medium', 'low', 'medium', 'high', '1'], dtype=object)]\n"
          ],
          "name": "stdout"
        }
      ]
    },
    {
      "cell_type": "markdown",
      "metadata": {
        "id": "DfdUS1Dx3HEP"
      },
      "source": [
        "4.\tInfer the probability for the data : with values \n",
        "\n",
        "    a.\t0 for all attributes and class 0 \n"
      ]
    },
    {
      "cell_type": "code",
      "metadata": {
        "colab": {
          "base_uri": "https://localhost:8080/"
        },
        "id": "aojiqtCCyqkR",
        "outputId": "2d211133-55dc-4734-b55a-41560c201c5c"
      },
      "source": [
        "print(model.probability([[None, None, None,None, \"0\"]]))"
      ],
      "execution_count": 97,
      "outputs": [
        {
          "output_type": "stream",
          "text": [
            "1.0\n"
          ],
          "name": "stdout"
        }
      ]
    }
  ]
}