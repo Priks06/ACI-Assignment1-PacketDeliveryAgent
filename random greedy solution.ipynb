{
 "cells": [
  {
   "cell_type": "markdown",
   "metadata": {},
   "source": [
    "# Random selection of packets"
   ]
  },
  {
   "cell_type": "code",
   "execution_count": null,
   "metadata": {},
   "outputs": [],
   "source": [
    "import random\n",
    "import string\n",
    "\n",
    "w1 = [1] * 15\n",
    "w2 = [2] * 5\n",
    "w3 = [4] * 7\n",
    "w4 = [5] * 2\n",
    "w5 = [6] * 3\n",
    "w6 = [7] * 2\n",
    "w7 = [9] * 4\n",
    "num=w1+w2+w3+w4+w5+w6+w7\n",
    "\n",
    "packet=[]                                                #Var for storing collection of packets selected by bot for commute\n",
    "visited=[]                                               #Var to recording visited packets\n",
    "secondPacket=[]                                          #Var for recording logic of Remaining - First \n",
    "commute=0                                                #Var for counting the commute made by bot\n",
    "while (len(num)>=0):                                     # loop till all packed are picked and stored in go-down\n",
    "\n",
    "    tempNum=num.copy()                                   # For inner while loop\n",
    "    if(len(tempNum)>0):                                      \n",
    "        first=random.choice(tempNum)                     # Randomly select first packet\n",
    "        remaining=10-first                               # Bot can carry only 10kg so 10 - selected packet\n",
    "        packet.append(first)\n",
    "        tempNum.remove(first)\n",
    "        remainingLength=len(tempNum)\n",
    "    else:\n",
    "        break\n",
    "    while (len(tempNum)>0):\n",
    "        select=random.choice(tempNum)                    \n",
    "        visited.append(select)                           # Record visited packets \n",
    "        tempNum.remove(select)                           # Remove visited packets from list\n",
    "        if((sum(secondPacket)+select)<=remaining):       # Calculating weight and it should not be more than 10 - first selected packet\n",
    "            secondPacket.append(select)\n",
    "        elif(len(visited)>=remainingLength):\n",
    "#             print(\"visited length\", len(visited))\n",
    "            break\n",
    "\n",
    "    packet=packet+secondPacket                           #Combine first selected packet and remaining packet selection\n",
    "    \n",
    "    print(\"packet\"+str(commute), packet)\n",
    "    commute+=1\n",
    "\n",
    "    for pack in packet:                                  # Remove selected list of packets from original packet set in avoid repeated selection of same packets/boxes\n",
    "        num.remove(pack)                                \n",
    "    packet=[]\n",
    "    secondPacket=[]\n",
    "    visited=[]\n",
    "    "
   ]
  }
 ],
 "metadata": {
  "kernelspec": {
   "display_name": "Python 3",
   "language": "python",
   "name": "python3"
  },
  "language_info": {
   "codemirror_mode": {
    "name": "ipython",
    "version": 3
   },
   "file_extension": ".py",
   "mimetype": "text/x-python",
   "name": "python",
   "nbconvert_exporter": "python",
   "pygments_lexer": "ipython3",
   "version": "3.7.3"
  }
 },
 "nbformat": 4,
 "nbformat_minor": 2
}
